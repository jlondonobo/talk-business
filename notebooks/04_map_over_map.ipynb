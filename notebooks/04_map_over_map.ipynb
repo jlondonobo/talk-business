{
 "cells": [
  {
   "attachments": {},
   "cell_type": "markdown",
   "metadata": {},
   "source": [
    "# Experimenting how to plot a choropleth with lines above it"
   ]
  },
  {
   "cell_type": "code",
   "execution_count": null,
   "metadata": {},
   "outputs": [],
   "source": [
    "from dotenv import load_dotenv\n",
    "import os\n",
    "load_dotenv(\"../talk_business/.env\")\n"
   ]
  },
  {
   "cell_type": "code",
   "execution_count": null,
   "metadata": {},
   "outputs": [],
   "source": [
    "from urllib.request import urlopen\n",
    "import json\n",
    "with urlopen('https://raw.githubusercontent.com/plotly/datasets/master/geojson-counties-fips.json') as response:\n",
    "    counties = json.load(response)\n",
    "\n",
    "import pandas as pd\n",
    "df = pd.read_csv(\"https://raw.githubusercontent.com/plotly/datasets/master/fips-unemp-16.csv\",\n",
    "                   dtype={\"fips\": str})\n",
    "\n",
    "import plotly.express as px\n",
    "\n",
    "\n",
    "import plotly.graph_objects as go\n",
    "fig = px.choropleth_mapbox(\n",
    "    df,\n",
    "    geojson=counties,\n",
    "    locations=\"fips\",\n",
    "    # color_continuous_scale=\"Viridis\",\n",
    "    # range_color=(0, 12),\n",
    "    mapbox_style=\"carto-positron\",\n",
    "    zoom=3,\n",
    "    center={\"lat\": 37.0902, \"lon\": -95.7129},\n",
    "    opacity=0.5,\n",
    "    labels={\"unemp\": \"unemployment rate\"},\n",
    ")\n",
    "fig.update_traces(marker_line_width=0)\n",
    "\n",
    "fig.add_scattermapbox(\n",
    "  \"\",\n",
    "  lat=[37.773972],\n",
    "  lon=[-122.431],\n",
    "  text = ['San Francisco'],\n",
    "  mode = 'markers+text+lines',\n",
    "  textfont=dict(size=14, color='black'),\n",
    ") \n",
    "\n",
    "fig.update_layout(\n",
    "    title_text=\"2011 US Agriculture Exports by State\",\n",
    "    geo_scope=\"usa\",  # limite map scope to USA\n",
    "    margin={\"r\": 0, \"t\": 0, \"l\": 0, \"b\": 0},\n",
    "    mapbox_layers=[\n",
    "        dict(\n",
    "            sourcetype=\"geojson\",\n",
    "            source=counties,\n",
    "            color=\"#303030\",\n",
    "            type=\"line\",\n",
    "            line=dict(width=1),\n",
    "        )\n",
    "    ],\n",
    "    mapbox_style='light',\n",
    "    mapbox_accesstoken=os.environ[\"MAPBOX_TOKEN\"],\n",
    ")\n",
    "fig.show()"
   ]
  },
  {
   "cell_type": "code",
   "execution_count": null,
   "metadata": {},
   "outputs": [],
   "source": [
    "fig.add_choroplethmapbox(\n",
    "    geojson=counties,\n",
    "    locations=df[\"fips\"],\n",
    "    colorbar=None,\n",
    "    \n",
    ")"
   ]
  },
  {
   "cell_type": "code",
   "execution_count": null,
   "metadata": {},
   "outputs": [],
   "source": []
  }
 ],
 "metadata": {
  "kernelspec": {
   "display_name": ".venv",
   "language": "python",
   "name": "python3"
  },
  "language_info": {
   "codemirror_mode": {
    "name": "ipython",
    "version": 3
   },
   "file_extension": ".py",
   "mimetype": "text/x-python",
   "name": "python",
   "nbconvert_exporter": "python",
   "pygments_lexer": "ipython3",
   "version": "3.10.10"
  },
  "orig_nbformat": 4
 },
 "nbformat": 4,
 "nbformat_minor": 2
}

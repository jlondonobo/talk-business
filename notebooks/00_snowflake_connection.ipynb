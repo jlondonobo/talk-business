{
 "cells": [
  {
   "cell_type": "code",
   "execution_count": null,
   "metadata": {},
   "outputs": [],
   "source": [
    "import numpy as np\n",
    "import pandas as pd\n",
    "import plotly.express as px\n",
    "import plotly.io as pio\n",
    "import plotly.graph_objects as go\n",
    "import json\n",
    "\n",
    "from talk_business.utils.loaders.census import get_total_population;"
   ]
  },
  {
   "cell_type": "code",
   "execution_count": null,
   "metadata": {},
   "outputs": [],
   "source": [
    "pop = get_total_population([\"New York County\"]);"
   ]
  },
  {
   "cell_type": "code",
   "execution_count": null,
   "metadata": {},
   "outputs": [],
   "source": [
    "pop.head()"
   ]
  },
  {
   "cell_type": "code",
   "execution_count": null,
   "metadata": {},
   "outputs": [],
   "source": [
    "geojson = json.loads(pop.set_index(\"CENSUS_BLOCK_GROUP\")[\"geometry\"].to_json())"
   ]
  },
  {
   "cell_type": "code",
   "execution_count": null,
   "metadata": {},
   "outputs": [],
   "source": [
    "fig = px.choropleth_mapbox(\n",
    "        pop,\n",
    "        geojson=geojson,\n",
    "        locations=\"CENSUS_BLOCK_GROUP\",\n",
    "        color=\"TOTAL_POPULATION\",\n",
    "        mapbox_style=\"carto-positron\",\n",
    "        color_continuous_scale=\"Sunsetdark\",\n",
    "        center={\"lat\": 40.7128, \"lon\": -74.0060},\n",
    "        zoom=13\n",
    "    )\n",
    "\n",
    "fig.update_layout(\n",
    "    mapbox_style=\"light\",\n",
    "    mapbox_accesstoken=\"pk.eyJ1IjoiamxvbmRvbm9ibyIsImEiOiJjbGc3N2h6bjcwa21zM2NvNzFpamV4bjZoIn0.Q7hLET7UBL-rScwdYxjzxQ\",\n",
    "    margin=dict(l=0, r=0, t=0, b=0),\n",
    "    uirevision=\"Don't change\",\n",
    "    showlegend=False,\n",
    "    height=700,\n",
    ")"
   ]
  }
 ],
 "metadata": {
  "kernelspec": {
   "display_name": ".venv",
   "language": "python",
   "name": "python3"
  },
  "language_info": {
   "codemirror_mode": {
    "name": "ipython",
    "version": 3
   },
   "file_extension": ".py",
   "mimetype": "text/x-python",
   "name": "python",
   "nbconvert_exporter": "python",
   "pygments_lexer": "ipython3",
   "version": "3.10.10"
  },
  "orig_nbformat": 4
 },
 "nbformat": 4,
 "nbformat_minor": 2
}

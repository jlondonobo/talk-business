{
 "cells": [
  {
   "cell_type": "code",
   "execution_count": 1,
   "metadata": {},
   "outputs": [],
   "source": [
    "import pandas as pd"
   ]
  },
  {
   "cell_type": "code",
   "execution_count": 2,
   "metadata": {},
   "outputs": [],
   "source": [
    "def stringify_query(query: dict[str, str]) -> str:\n",
    "    return \" & \".join([f\"{key}=='{value}'\" for key, value in query.items()])"
   ]
  },
  {
   "cell_type": "code",
   "execution_count": 3,
   "metadata": {},
   "outputs": [],
   "source": [
    "dictionary_path = \"/Users/joselondono/Downloads/Dictionary.xlsx\"\n",
    "vars = pd.read_excel(dictionary_path)"
   ]
  },
  {
   "attachments": {},
   "cell_type": "markdown",
   "metadata": {},
   "source": [
    "### Renter costs"
   ]
  },
  {
   "cell_type": "code",
   "execution_count": 4,
   "metadata": {},
   "outputs": [],
   "source": [
    "def parse_rent_groups(s: pd.Series) -> pd.Series:\n",
    "    return (\n",
    "        s\n",
    "        .str.replace(\"$\", \"\", regex=False)\n",
    "        .str.replace(\" to \" , \"-\", regex=False)\n",
    "        .str.replace(\" or more\", \"-\", regex=False)\n",
    "        .str.replace(\"Less than \", \"0-\", regex=False)\n",
    "        .str.replace(\" \", \"\")\n",
    "    )\n",
    "    \n",
    "def get_numeric_rent(s: pd.Series) -> pd.Series:\n",
    "    return s.str.split(\"-\", expand=True)[0].astype(int)"
   ]
  },
  {
   "cell_type": "code",
   "execution_count": 5,
   "metadata": {},
   "outputs": [],
   "source": [
    "rent_query = {\"TABLE_TITLE\": \"Gross Rent\", \"FIELD_LEVEL_1\": \"Estimate\"}\n",
    "rent_vars = vars.query(stringify_query(rent_query))\n",
    "non_empty_rent_vars = (\n",
    "    rent_vars.query(\"FIELD_LEVEL_6.notna()\")\n",
    "    .assign(\n",
    "        name=lambda df: parse_rent_groups(df[\"FIELD_LEVEL_6\"]),\n",
    "        numeric=lambda df: get_numeric_rent(df[\"name\"])\n",
    "    )\n",
    "    .rename(columns={\"TABLE_ID\": \"codes\"})\n",
    "    .groupby(\"FIELD_LEVEL_6\")\n",
    "    .agg({\"codes\": list, \"name\": \"first\", \"numeric\": \"first\"})\n",
    "    .sort_values(\"numeric\")\n",
    ")"
   ]
  },
  {
   "attachments": {},
   "cell_type": "markdown",
   "metadata": {},
   "source": [
    "## Family Income"
   ]
  },
  {
   "cell_type": "code",
   "execution_count": 7,
   "metadata": {},
   "outputs": [],
   "source": [
    "family_income_query = {\"TABLE_NUMBER\": \"B19001\", \"FIELD_LEVEL_1\": \"Estimate\"}\n",
    "family_income_ids = vars.query(stringify_query(family_income_query)).query(\"FIELD_LEVEL_5.notna()\")"
   ]
  },
  {
   "cell_type": "code",
   "execution_count": 9,
   "metadata": {},
   "outputs": [
    {
     "data": {
      "text/plain": [
       "{'Less than $10 000': {'codes': ['B19001e2'], 'name': '0-10000', 'numeric': 0},\n",
       " '$10 000 to $14 999': {'codes': ['B19001e3'],\n",
       "  'name': '10000-14999',\n",
       "  'numeric': 10000},\n",
       " '$15 000 to $19 999': {'codes': ['B19001e4'],\n",
       "  'name': '15000-19999',\n",
       "  'numeric': 15000},\n",
       " '$20 000 to $24 999': {'codes': ['B19001e5'],\n",
       "  'name': '20000-24999',\n",
       "  'numeric': 20000},\n",
       " '$25 000 to $29 999': {'codes': ['B19001e6'],\n",
       "  'name': '25000-29999',\n",
       "  'numeric': 25000},\n",
       " '$30 000 to $34 999': {'codes': ['B19001e7'],\n",
       "  'name': '30000-34999',\n",
       "  'numeric': 30000},\n",
       " '$35 000 to $39 999': {'codes': ['B19001e8'],\n",
       "  'name': '35000-39999',\n",
       "  'numeric': 35000},\n",
       " '$40 000 to $44 999': {'codes': ['B19001e9'],\n",
       "  'name': '40000-44999',\n",
       "  'numeric': 40000},\n",
       " '$45 000 to $49 999': {'codes': ['B19001e10'],\n",
       "  'name': '45000-49999',\n",
       "  'numeric': 45000},\n",
       " '$50 000 to $59 999': {'codes': ['B19001e11'],\n",
       "  'name': '50000-59999',\n",
       "  'numeric': 50000},\n",
       " '$60 000 to $74 999': {'codes': ['B19001e12'],\n",
       "  'name': '60000-74999',\n",
       "  'numeric': 60000},\n",
       " '$75 000 to $99 999': {'codes': ['B19001e13'],\n",
       "  'name': '75000-99999',\n",
       "  'numeric': 75000},\n",
       " '$100 000 to $124 999': {'codes': ['B19001e14'],\n",
       "  'name': '100000-124999',\n",
       "  'numeric': 100000},\n",
       " '$125 000 to $149 999': {'codes': ['B19001e15'],\n",
       "  'name': '125000-149999',\n",
       "  'numeric': 125000},\n",
       " '$150 000 to $199 999': {'codes': ['B19001e16'],\n",
       "  'name': '150000-199999',\n",
       "  'numeric': 150000},\n",
       " '$200 000 or more': {'codes': ['B19001e17'],\n",
       "  'name': '200000-',\n",
       "  'numeric': 200000}}"
      ]
     },
     "execution_count": 9,
     "metadata": {},
     "output_type": "execute_result"
    }
   ],
   "source": [
    "(\n",
    "    family_income_ids\n",
    "    .assign(\n",
    "        name=lambda df: parse_rent_groups(df[\"FIELD_LEVEL_5\"]),\n",
    "        numeric=lambda df: get_numeric_rent(df[\"name\"])\n",
    "    )\n",
    "    .rename(columns={\"TABLE_ID\": \"codes\"})\n",
    "    .groupby(\"FIELD_LEVEL_5\")\n",
    "    .agg({\"codes\": list, \"name\": \"first\", \"numeric\": \"first\"})\n",
    "    .sort_values(\"numeric\")\n",
    "    .to_dict(\"index\")\n",
    ")"
   ]
  },
  {
   "attachments": {},
   "cell_type": "markdown",
   "metadata": {},
   "source": [
    "## Enrolled in School"
   ]
  },
  {
   "cell_type": "code",
   "execution_count": 32,
   "metadata": {},
   "outputs": [],
   "source": [
    "school_enrollment_query = {\"TABLE_NUMBER\": \"B14007\", \"FIELD_LEVEL_1\": \"Estimate\"}\n",
    "enroll = vars.query(stringify_query(school_enrollment_query)).query(\"FIELD_LEVEL_6.notna()\")"
   ]
  },
  {
   "cell_type": "code",
   "execution_count": 35,
   "metadata": {},
   "outputs": [],
   "source": [
    "GRADES = {\n",
    "    \"Enrolled in kindergarten\": \"ELEMENTARY_SCHOOL\",\n",
    "    \"Enrolled in grade 1\": \"ELEMENTARY_SCHOOL\",\n",
    "    \"Enrolled in grade 2\": \"ELEMENTARY_SCHOOL\",\n",
    "    \"Enrolled in grade 3\": \"ELEMENTARY_SCHOOL\",\n",
    "    \"Enrolled in grade 4\": \"ELEMENTARY_SCHOOL\",\n",
    "    \"Enrolled in grade 5\": \"ELEMENTARY_SCHOOL\",\n",
    "    \"Enrolled in grade 6\": \"MIDDLE_SCHOOL\",\n",
    "    \"Enrolled in grade 7\": \"MIDDLE_SCHOOL\",\n",
    "    \"Enrolled in grade 8\": \"MIDDLE_SCHOOL\",\n",
    "    \"Enrolled in grade 9\": \"HIGH_SCHOOL\",\n",
    "    \"Enrolled in grade 10\": \"HIGH_SCHOOL\",\n",
    "    \"Enrolled in grade 11\": \"HIGH_SCHOOL\",\n",
    "    \"Enrolled in grade 12\": \"HIGH_SCHOOL\",\n",
    "    \"Enrolled in nursery school preschool\": \"HIGHER_EDUCATION\",\n",
    "    \"Enrolled in college undergraduate years\": \"HIGHER_EDUCATION\",\n",
    "    \"Graduate or professional school\": \"HIGHER_EDUCATION\",\n",
    "}"
   ]
  },
  {
   "cell_type": "code",
   "execution_count": 36,
   "metadata": {},
   "outputs": [
    {
     "data": {
      "text/plain": [
       "{'ELEMENTARY_SCHOOL': {'codes': ['B14007e4',\n",
       "   'B14007e5',\n",
       "   'B14007e6',\n",
       "   'B14007e7',\n",
       "   'B14007e8',\n",
       "   'B14007e9'],\n",
       "  'name': 'ELEMENTARY_SCHOOL'},\n",
       " 'HIGHER_EDUCATION': {'codes': ['B14007e17', 'B14007e18', 'B14007e3'],\n",
       "  'name': 'HIGHER_EDUCATION'},\n",
       " 'HIGH_SCHOOL': {'codes': ['B14007e13', 'B14007e14', 'B14007e15', 'B14007e16'],\n",
       "  'name': 'HIGH_SCHOOL'},\n",
       " 'MIDDLE_SCHOOL': {'codes': ['B14007e10', 'B14007e11', 'B14007e12'],\n",
       "  'name': 'MIDDLE_SCHOOL'}}"
      ]
     },
     "execution_count": 36,
     "metadata": {},
     "output_type": "execute_result"
    }
   ],
   "source": [
    "(\n",
    "    enroll.assign(name=lambda df: df[\"FIELD_LEVEL_6\"].map(GRADES))\n",
    "    .rename(columns={\"TABLE_ID\": \"codes\"})\n",
    "    .groupby(\"name\")\n",
    "    .agg({\"codes\": list, \"name\": \"first\", })\n",
    "    .to_dict(\"index\")\n",
    ")"
   ]
  },
  {
   "cell_type": "code",
   "execution_count": null,
   "metadata": {},
   "outputs": [],
   "source": []
  }
 ],
 "metadata": {
  "kernelspec": {
   "display_name": ".venv",
   "language": "python",
   "name": "python3"
  },
  "language_info": {
   "codemirror_mode": {
    "name": "ipython",
    "version": 3
   },
   "file_extension": ".py",
   "mimetype": "text/x-python",
   "name": "python",
   "nbconvert_exporter": "python",
   "pygments_lexer": "ipython3",
   "version": "3.10.10"
  },
  "orig_nbformat": 4
 },
 "nbformat": 4,
 "nbformat_minor": 2
}

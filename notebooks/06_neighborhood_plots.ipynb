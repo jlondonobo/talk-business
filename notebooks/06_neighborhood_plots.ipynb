{
 "cells": [
  {
   "cell_type": "code",
   "execution_count": 151,
   "metadata": {},
   "outputs": [],
   "source": [
    "import sys;\n",
    "sys.path.append(\"../talk_business\")\n",
    "from talk_business.utils.sql import neighborhood_explorer as ne\n",
    "\n",
    "import plotly.express as px\n",
    "import plotly.graph_objects as go\n",
    "import plotly.io as pio\n",
    "\n",
    "pio.templates.default=\"plotly\""
   ]
  },
  {
   "cell_type": "code",
   "execution_count": null,
   "metadata": {},
   "outputs": [],
   "source": [
    "def plot_donut(data: pd.DataFrame) -> go.Figure:\n",
    "    \"\"\"Return a donut chart from a Series.\"\"\"\n",
    "    fig = go.Figure(\n",
    "        data=[\n",
    "            go.Pie(\n",
    "                labels=data[\"RACE_GROUPS\"],\n",
    "                values=data[\"population\"],\n",
    "                hole=0.5,\n",
    "                textinfo=\"label+percent\",\n",
    "                sort=False,\n",
    "                direction=\"clockwise\",\n",
    "            )\n",
    "        ]\n",
    "    )\n",
    "    fig.update_layout(\n",
    "        margin=dict(l=0, r=0, t=70, b=0),\n",
    "        showlegend=False,\n",
    "        title=dict(\n",
    "            x=0.5,\n",
    "            xanchor=\"center\",\n",
    "        ),\n",
    "        height=300,\n",
    "    )\n",
    "    return fig"
   ]
  },
  {
   "cell_type": "code",
   "execution_count": null,
   "metadata": {},
   "outputs": [],
   "source": [
    "DISTRIBUTIONS = [\n",
    "    \"AGE_GROUPS\",\n",
    "    \"ENROLLMENT_GROUPS\",\n",
    "    \"FAMILY_INCOME_GROUPS\",\n",
    "    \"OCCUPATION_GROUPS\",\n",
    "    \"RACE_GROUPS\",\n",
    "    \"RENT_GROUPS\",\n",
    "]"
   ]
  },
  {
   "cell_type": "markdown",
   "metadata": {},
   "source": [
    "## Age"
   ]
  },
  {
   "cell_type": "code",
   "execution_count": 166,
   "metadata": {},
   "outputs": [],
   "source": [
    "\n",
    "\n",
    "LABELS = {\n",
    "    \"AGE_GROUPS\": \"Age\",\n",
    "    \"ENROLLMENT_GROUPS\": \"School Enrollment\",\n",
    "    \"FAMILY_INCOME_GROUPS\": \"Family Income (Yearly)\",\n",
    "    \"OCCUPATION_GROUPS\": \"Occupation\",\n",
    "    \"RACE_GROUPS\": \"Race\",\n",
    "    \"RENT_GROUPS\": \"Rent (Monthly)\",\n",
    "    \"population\": \"Population\",\n",
    "    \"age_category\": \"Age Group\",\n",
    "    \"income_groups\": \"Family Income\",\n",
    "}\n",
    "\n",
    "AGE_CATEGORY = {\n",
    "    \"00-05\": \"Children\",\n",
    "    \"05-10\": \"Children\",\n",
    "    \"10-14\": \"Adolescents\",\n",
    "    \"15-19\": \"Adolescents\",\n",
    "    \"20-24\": \"Young Adults\",\n",
    "    \"25-29\": \"Young Adults\",\n",
    "    \"30-34\": \"Adults\",\n",
    "    \"35-39\": \"Adults\",\n",
    "    \"40-44\": \"Adults\",\n",
    "    \"45-49\": \"Adults\",\n",
    "    \"50-54\": \"Adults\",\n",
    "    \"55-59\": \"Adults\",\n",
    "    \"60-64\": \"Older adults\",\n",
    "    \"65-69\": \"Older adults\",\n",
    "    \"70-74\": \"Older adults\",\n",
    "    \"75-79\": \"Older adults\",\n",
    "    \"80-84\": \"Older adults\",\n",
    "    \"85-100\": \"Older adults\",\n",
    "}\n",
    "\n",
    "FAMILY_INCOME_GROUPPED = {\n",
    "    \"0-10000\": \"$0-$25,000\",\n",
    "    \"10000-14999\": \"$0-$25,000\",\n",
    "    \"15000-19999\": \"$0-$25,000\",\n",
    "    \"20000-24999\": \"$0-$25,000\",\n",
    "    \"25000-29999\": \"$25,000-$50,000\",\n",
    "    \"30000-34999\": \"$25,000-$50,000\",\n",
    "    \"35000-39999\": \"$25,000-$50,000\",\n",
    "    \"40000-44999\": \"$25,000-$50,000\",\n",
    "    \"45000-49999\": \"$25,000-$50,000\",\n",
    "    \"50000-59999\": \"$50,000-$75,000\",\n",
    "    \"60000-74999\": \"$50,000-$75,000\",\n",
    "    \"75000-99999\": \"$75,000-$100,000\",\n",
    "    \"100000-124999\": \"$100,000-$125,000\",\n",
    "    \"125000-149999\": \"$125,000-$150,000\",\n",
    "    \"150000-199999\": \"$150,000-$200,000\",\n",
    "    \"200000-\": \"+$200,000\",\n",
    "}\n",
    "\n",
    "OCCUPATION_MAPPER = {\n",
    "    \"1\": \"Building and grounds cleaning and maintenance occupations\",\n",
    "    \"2\": \"Computer engineering and science occupations\",\n",
    "    \"3\": \"Construction and extraction occupations\",\n",
    "    \"4\": \"Education legal community service arts and media occupations\",\n",
    "    \"5\": \"Farming fishing and forestry occupations\",\n",
    "    \"6\": \"Food preparation and serving related occupations\",\n",
    "    \"7\": \"Healthcare practitioners and technical occupations\",\n",
    "    \"8\": \"Healthcare support occupations\",\n",
    "    \"9\": \"Installation maintenance and repair occupations\",\n",
    "    \"10\": \"Management business and financial occupations\",\n",
    "    \"11\": \"Material moving occupations\",\n",
    "    \"12\": \"Office and administrative support occupations\",\n",
    "    \"13\": \"Personal care and service occupations\",\n",
    "    \"14\": \"Production occupations\",\n",
    "    \"15\": \"Protective service occupations\",\n",
    "    \"16\": \"Sales and related occupations\",\n",
    "    \"17\": \"Transportation occupations\",\n",
    "}\n",
    "\n",
    "RACE_GROUPS_MAPPER = {\n",
    "    \"WHITE\": \"WHITE\",\n",
    "    \"BLACK_OR_AFRICAN_AMERICAN\": \"BLACK_OR_AFRICAN_AMERICAN\",\n",
    "    \"AMERICAN_INDIAN_AND_ALASKA_NATIVE\": \"SOME_OTHER_RACE\",\n",
    "    \"ASIAN\": \"ASIAN\",\n",
    "    \"NATIVE_HAWAIIAN_AND_OTHER_PACIFIC_ISLANDER_ALONE\": \"SOME_OTHER_RACE\",\n",
    "    \"SOME_OTHER_RACE\": \"SOME_OTHER_RACE\",\n",
    "    \"TWO_OR_MORE_RACES\": \"SOME_OTHER_RACE\",\n",
    "}\n",
    "\n",
    "RENT_MAPPER = {\n",
    "    \"0-100\": \"$0-$500\",\n",
    "    \"100-149\": \"$0-$500\",\n",
    "    \"150-199\": \"$0-$500\",\n",
    "    \"200-249\": \"$0-$500\",\n",
    "    \"250-299\": \"$0-$500\",\n",
    "    \"300-349\": \"$0-$500\",\n",
    "    \"350-399\": \"$0-$500\",\n",
    "    \"400-449\": \"$0-$500\",\n",
    "    \"450-499\": \"$0-$500\",\n",
    "    \"500-549\": \"$500-$1,000\",\n",
    "    \"550-599\": \"$500-$1,000\",\n",
    "    \"600-649\": \"$500-$1,000\",\n",
    "    \"650-699\": \"$500-$1,000\",\n",
    "    \"700-749\": \"$500-$1,000\",\n",
    "    \"750-799\": \"$500-$1,000\",\n",
    "    \"800-899\": \"$500-$1,000\",\n",
    "    \"900-999\": \"$500-$1,000\",\n",
    "    \"1000-1249\": \"$1,000-$1,500\",\n",
    "    \"1250-1499\": \"$1,000-$1,500\",\n",
    "    \"1500-1999\": \"$1,500-$2,000\",\n",
    "    \"2000-2499\": \"$2,000-$2,500\",\n",
    "    \"2500-2999\": \"$2,500-$3,000\",\n",
    "    \"3000-3499\": \"$3,000-$3,500\",\n",
    "    \"3500-\": \"+$3500\",\n",
    "}"
   ]
  },
  {
   "cell_type": "code",
   "execution_count": 56,
   "metadata": {},
   "outputs": [],
   "source": [
    "def plot_age_distribution(age_distribution: pd.DataFrame) -> tuple[go.Figure, go.Figure]:\n",
    "    fig = px.bar(\n",
    "        age_distribution, x=\"AGE_GROUPS\", y=\"population\", text_auto=\",.0f\", color=\"age_category\", labels=LABELS\n",
    "    )\n",
    "    fig.update_layout(xaxis_type=\"category\")\n",
    "\n",
    "    summary = age_distribution.groupby(\"age_category\")[\"population\"].sum().reset_index()\n",
    "    summary_fig = px.bar(summary, x=\"age_category\", y=\"population\", text_auto=\",.0f\", labels=LABELS)\n",
    "    return fig, summary_fig\n",
    "    "
   ]
  },
  {
   "cell_type": "code",
   "execution_count": null,
   "metadata": {},
   "outputs": [],
   "source": [
    "def plot_enrollment(enrollment_distribution: pd.DataFrame):\n",
    "    return px.bar(\n",
    "        enrollment_distribution,\n",
    "        x=\"ENROLLMENT_GROUPS\",\n",
    "        y=\"population\",\n",
    "        text_auto=\",.0f\",\n",
    "        labels=LABELS,\n",
    "    )"
   ]
  },
  {
   "cell_type": "code",
   "execution_count": 167,
   "metadata": {},
   "outputs": [
    {
     "ename": "IndentationError",
     "evalue": "expected an indented block after function definition on line 1 (1167895496.py, line 2)",
     "output_type": "error",
     "traceback": [
      "\u001b[0;36m  Cell \u001b[0;32mIn[167], line 2\u001b[0;36m\u001b[0m\n\u001b[0;31m    if style == \"AGE_GROUPS\":\u001b[0m\n\u001b[0m    ^\u001b[0m\n\u001b[0;31mIndentationError\u001b[0m\u001b[0;31m:\u001b[0m expected an indented block after function definition on line 1\n"
     ]
    }
   ],
   "source": [
    "def plot_distribution(style: str):\n",
    "    if style == \"AGE_GROUPS\":\n",
    "        import pandas as pd\n",
    "\n",
    "        distribution = ne.get_distribution(\"AGE_GROUPS\", \"Mott Haven-Port Morris\")\n",
    "        age_distribution = distribution.assign(\n",
    "            age_category=lambda df: df[\"AGE_GROUPS\"].map(AGE_CATEGORY),\n",
    "        ).assign(\n",
    "            age_category=lambda df: pd.Categorical(\n",
    "                df[\"age_category\"], categories=df.age_category.unique(), ordered=True\n",
    "            )\n",
    "        )\n",
    "\n",
    "        return plot_age_distribution(age_distribution)\n",
    "\n",
    "    elif style == \"ENROLLMENT_GROUPS\":\n",
    "        enrollment_distribution = ne.get_distribution(\n",
    "            \"ENROLLMENT_GROUPS\", \"Mott Haven-Port Morris\"\n",
    "        )\n",
    "        enrollment_distribution = enrollment_distribution.assign(\n",
    "            ENROLLMENT_GROUPS=lambda df: pd.Categorical(\n",
    "                df[\"ENROLLMENT_GROUPS\"],\n",
    "                categories=[\n",
    "                    \"ELEMENTARY_SCHOOL\",\n",
    "                    \"MIDDLE_SCHOOL\",\n",
    "                    \"HIGH_SCHOOL\",\n",
    "                    \"HIGHER_EDUCATION\",\n",
    "                ],\n",
    "                ordered=True,\n",
    "            )\n",
    "        ).sort_values(\"ENROLLMENT_GROUPS\")\n",
    "        plot_enrollment(enrollment_distribution)\n",
    "    elif style == \"FAMILY_INCOME_GROUPS\":\n",
    "        family_income_distribution = distribution = ne.get_distribution(\n",
    "            \"FAMILY_INCOME_GROUPS\", \"Mott Haven-Port Morris\"\n",
    "        )\n",
    "        family_income_distribution = (\n",
    "            family_income_distribution.assign(\n",
    "                income_groups=lambda df: pd.Categorical(\n",
    "                    df[\"FAMILY_INCOME_GROUPS\"].map(FAMILY_INCOME_GROUPPED),\n",
    "                    categories=pd.Series(FAMILY_INCOME_GROUPPED).unique(),\n",
    "                    ordered=True,\n",
    "                )\n",
    "            )\n",
    "            .groupby(\"income_groups\", as_index=False)[\"population\"]\n",
    "            .sum()\n",
    "        )\n",
    "        fig = px.bar(\n",
    "            distribution, x=\"income_groups\", y=\"population\", text_auto=\",.0f\", labels=LABELS\n",
    "        )\n",
    "        fig.update_layout(xaxis_type=\"category\")\n",
    "        return fig\n",
    "\n",
    "    elif style == \"OCCUPATION_GROUPS\":\n",
    "        occupation_dist = ne.get_distribution(\"OCCUPATION_GROUPS\", \"Mott Haven-Port Morris\")\n",
    "        top_occupation = (\n",
    "            occupation_dist.nlargest(10, \"population\")\n",
    "            .sort_values(\"population\", ascending=True)\n",
    "            .assign(\n",
    "                OCCUPATION_GROUPS=lambda df: df[\"OCCUPATION_GROUPS\"]\n",
    "                .map(OCCUPATION_MAPPER)\n",
    "                .str.replace(\" occupations\", \"\")\n",
    "            )\n",
    "        )\n",
    "\n",
    "        fig = px.bar(\n",
    "            top_occupation,\n",
    "            y=\"OCCUPATION_GROUPS\",\n",
    "            x=\"population\",\n",
    "            text_auto=\",.0f\",\n",
    "            labels=LABELS,\n",
    "            orientation=\"h\",\n",
    "        )\n",
    "        fig.update_layout(margin=dict(l=200, r=0, t=0, b=40))\n",
    "        return fig\n",
    "\n",
    "    elif style == \"RACE_GROUPS\":\n",
    "        race_distribution = ne.get_distribution(\"RACE_GROUPS\", \"Mott Haven-Port Morris\")\n",
    "        race_distribution = (\n",
    "            race_distribution.assign(\n",
    "                RACE_GROUPS=lambda df: df[\"RACE_GROUPS\"].map(RACE_GROUPS_MAPPER)\n",
    "            )\n",
    "            .groupby(\"RACE_GROUPS\", as_index=False)[\"population\"]\n",
    "            .sum()\n",
    "            .sort_values(\"population\", ascending=False)\n",
    "        )\n",
    "        return plot_donut(race_distribution)\n",
    "    elif style == \"RENT_GROUPS\":\n",
    "        rent_groups = ne.get_distribution(\"RENT_GROUPS\", \"Mott Haven-Port Morris\")\n",
    "        rent_distribution = (\n",
    "            rent_groups.assign(\n",
    "                RENT_GROUPS=lambda df: pd.Categorical(\n",
    "                    df[\"RENT_GROUPS\"].map(RENT_MAPPER),\n",
    "                    categories=pd.Series(RENT_MAPPER).unique(),\n",
    "                    ordered=True,\n",
    "                )\n",
    "            )\n",
    "            .groupby(\"RENT_GROUPS\", as_index=False)[\"population\"]\n",
    "            .sum()\n",
    "            .sort_values(\"population\", ascending=False)\n",
    "            .sort_values(\"RENT_GROUPS\")\n",
    "        )\n",
    "        fig px.bar(\n",
    "            rent_distribution, x=\"RENT_GROUPS\", y=\"population\", text_auto=\",.0f\", labels=LABELS\n",
    "        )\n",
    "    return fig"
   ]
  },
  {
   "cell_type": "code",
   "execution_count": 156,
   "metadata": {},
   "outputs": [
    {
     "name": "stderr",
     "output_type": "stream",
     "text": [
      "2023-04-19 18:47:27.404 query: [SELECT * FROM PERSONAL.PUBLIC.RENT_GROUPS WHERE NTANAME = 'Mott Haven-Port Morri...]\n",
      "2023-04-19 18:47:28.792 query execution done\n",
      "2023-04-19 18:47:28.792 Number of results in first chunk: 1\n"
     ]
    }
   ],
   "source": []
  },
  {
   "cell_type": "code",
   "execution_count": 164,
   "metadata": {},
   "outputs": [],
   "source": []
  },
  {
   "cell_type": "code",
   "execution_count": 165,
   "metadata": {},
   "outputs": [
    {
     "data": {
      "application/vnd.plotly.v1+json": {
       "config": {
        "plotlyServerURL": "https://plot.ly"
       },
       "data": [
        {
         "alignmentgroup": "True",
         "hovertemplate": "Rent=%{x}<br>Population=%{y}<extra></extra>",
         "legendgroup": "",
         "marker": {
          "color": "#636efa",
          "pattern": {
           "shape": ""
          }
         },
         "name": "",
         "offsetgroup": "",
         "orientation": "v",
         "showlegend": false,
         "textposition": "auto",
         "texttemplate": "%{y:,.0f}",
         "type": "bar",
         "x": [
          "$0-$500",
          "$500-$1,000",
          "$1,000-$1,500",
          "$1,500-$2,000",
          "$2,000-$2,500",
          "$2,500-$3,000",
          "$3,000-$3,500",
          "+$3500"
         ],
         "xaxis": "x",
         "y": [
          6421,
          4023,
          4648,
          2277,
          775,
          73,
          106,
          187
         ],
         "yaxis": "y"
        }
       ],
       "layout": {
        "barmode": "relative",
        "legend": {
         "tracegroupgap": 0
        },
        "margin": {
         "t": 60
        },
        "template": {
         "data": {
          "bar": [
           {
            "error_x": {
             "color": "#2a3f5f"
            },
            "error_y": {
             "color": "#2a3f5f"
            },
            "marker": {
             "line": {
              "color": "#E5ECF6",
              "width": 0.5
             },
             "pattern": {
              "fillmode": "overlay",
              "size": 10,
              "solidity": 0.2
             }
            },
            "type": "bar"
           }
          ],
          "barpolar": [
           {
            "marker": {
             "line": {
              "color": "#E5ECF6",
              "width": 0.5
             },
             "pattern": {
              "fillmode": "overlay",
              "size": 10,
              "solidity": 0.2
             }
            },
            "type": "barpolar"
           }
          ],
          "carpet": [
           {
            "aaxis": {
             "endlinecolor": "#2a3f5f",
             "gridcolor": "white",
             "linecolor": "white",
             "minorgridcolor": "white",
             "startlinecolor": "#2a3f5f"
            },
            "baxis": {
             "endlinecolor": "#2a3f5f",
             "gridcolor": "white",
             "linecolor": "white",
             "minorgridcolor": "white",
             "startlinecolor": "#2a3f5f"
            },
            "type": "carpet"
           }
          ],
          "choropleth": [
           {
            "colorbar": {
             "outlinewidth": 0,
             "ticks": ""
            },
            "type": "choropleth"
           }
          ],
          "contour": [
           {
            "colorbar": {
             "outlinewidth": 0,
             "ticks": ""
            },
            "colorscale": [
             [
              0,
              "#0d0887"
             ],
             [
              0.1111111111111111,
              "#46039f"
             ],
             [
              0.2222222222222222,
              "#7201a8"
             ],
             [
              0.3333333333333333,
              "#9c179e"
             ],
             [
              0.4444444444444444,
              "#bd3786"
             ],
             [
              0.5555555555555556,
              "#d8576b"
             ],
             [
              0.6666666666666666,
              "#ed7953"
             ],
             [
              0.7777777777777778,
              "#fb9f3a"
             ],
             [
              0.8888888888888888,
              "#fdca26"
             ],
             [
              1,
              "#f0f921"
             ]
            ],
            "type": "contour"
           }
          ],
          "contourcarpet": [
           {
            "colorbar": {
             "outlinewidth": 0,
             "ticks": ""
            },
            "type": "contourcarpet"
           }
          ],
          "heatmap": [
           {
            "colorbar": {
             "outlinewidth": 0,
             "ticks": ""
            },
            "colorscale": [
             [
              0,
              "#0d0887"
             ],
             [
              0.1111111111111111,
              "#46039f"
             ],
             [
              0.2222222222222222,
              "#7201a8"
             ],
             [
              0.3333333333333333,
              "#9c179e"
             ],
             [
              0.4444444444444444,
              "#bd3786"
             ],
             [
              0.5555555555555556,
              "#d8576b"
             ],
             [
              0.6666666666666666,
              "#ed7953"
             ],
             [
              0.7777777777777778,
              "#fb9f3a"
             ],
             [
              0.8888888888888888,
              "#fdca26"
             ],
             [
              1,
              "#f0f921"
             ]
            ],
            "type": "heatmap"
           }
          ],
          "heatmapgl": [
           {
            "colorbar": {
             "outlinewidth": 0,
             "ticks": ""
            },
            "colorscale": [
             [
              0,
              "#0d0887"
             ],
             [
              0.1111111111111111,
              "#46039f"
             ],
             [
              0.2222222222222222,
              "#7201a8"
             ],
             [
              0.3333333333333333,
              "#9c179e"
             ],
             [
              0.4444444444444444,
              "#bd3786"
             ],
             [
              0.5555555555555556,
              "#d8576b"
             ],
             [
              0.6666666666666666,
              "#ed7953"
             ],
             [
              0.7777777777777778,
              "#fb9f3a"
             ],
             [
              0.8888888888888888,
              "#fdca26"
             ],
             [
              1,
              "#f0f921"
             ]
            ],
            "type": "heatmapgl"
           }
          ],
          "histogram": [
           {
            "marker": {
             "pattern": {
              "fillmode": "overlay",
              "size": 10,
              "solidity": 0.2
             }
            },
            "type": "histogram"
           }
          ],
          "histogram2d": [
           {
            "colorbar": {
             "outlinewidth": 0,
             "ticks": ""
            },
            "colorscale": [
             [
              0,
              "#0d0887"
             ],
             [
              0.1111111111111111,
              "#46039f"
             ],
             [
              0.2222222222222222,
              "#7201a8"
             ],
             [
              0.3333333333333333,
              "#9c179e"
             ],
             [
              0.4444444444444444,
              "#bd3786"
             ],
             [
              0.5555555555555556,
              "#d8576b"
             ],
             [
              0.6666666666666666,
              "#ed7953"
             ],
             [
              0.7777777777777778,
              "#fb9f3a"
             ],
             [
              0.8888888888888888,
              "#fdca26"
             ],
             [
              1,
              "#f0f921"
             ]
            ],
            "type": "histogram2d"
           }
          ],
          "histogram2dcontour": [
           {
            "colorbar": {
             "outlinewidth": 0,
             "ticks": ""
            },
            "colorscale": [
             [
              0,
              "#0d0887"
             ],
             [
              0.1111111111111111,
              "#46039f"
             ],
             [
              0.2222222222222222,
              "#7201a8"
             ],
             [
              0.3333333333333333,
              "#9c179e"
             ],
             [
              0.4444444444444444,
              "#bd3786"
             ],
             [
              0.5555555555555556,
              "#d8576b"
             ],
             [
              0.6666666666666666,
              "#ed7953"
             ],
             [
              0.7777777777777778,
              "#fb9f3a"
             ],
             [
              0.8888888888888888,
              "#fdca26"
             ],
             [
              1,
              "#f0f921"
             ]
            ],
            "type": "histogram2dcontour"
           }
          ],
          "mesh3d": [
           {
            "colorbar": {
             "outlinewidth": 0,
             "ticks": ""
            },
            "type": "mesh3d"
           }
          ],
          "parcoords": [
           {
            "line": {
             "colorbar": {
              "outlinewidth": 0,
              "ticks": ""
             }
            },
            "type": "parcoords"
           }
          ],
          "pie": [
           {
            "automargin": true,
            "type": "pie"
           }
          ],
          "scatter": [
           {
            "fillpattern": {
             "fillmode": "overlay",
             "size": 10,
             "solidity": 0.2
            },
            "type": "scatter"
           }
          ],
          "scatter3d": [
           {
            "line": {
             "colorbar": {
              "outlinewidth": 0,
              "ticks": ""
             }
            },
            "marker": {
             "colorbar": {
              "outlinewidth": 0,
              "ticks": ""
             }
            },
            "type": "scatter3d"
           }
          ],
          "scattercarpet": [
           {
            "marker": {
             "colorbar": {
              "outlinewidth": 0,
              "ticks": ""
             }
            },
            "type": "scattercarpet"
           }
          ],
          "scattergeo": [
           {
            "marker": {
             "colorbar": {
              "outlinewidth": 0,
              "ticks": ""
             }
            },
            "type": "scattergeo"
           }
          ],
          "scattergl": [
           {
            "marker": {
             "colorbar": {
              "outlinewidth": 0,
              "ticks": ""
             }
            },
            "type": "scattergl"
           }
          ],
          "scattermapbox": [
           {
            "marker": {
             "colorbar": {
              "outlinewidth": 0,
              "ticks": ""
             }
            },
            "type": "scattermapbox"
           }
          ],
          "scatterpolar": [
           {
            "marker": {
             "colorbar": {
              "outlinewidth": 0,
              "ticks": ""
             }
            },
            "type": "scatterpolar"
           }
          ],
          "scatterpolargl": [
           {
            "marker": {
             "colorbar": {
              "outlinewidth": 0,
              "ticks": ""
             }
            },
            "type": "scatterpolargl"
           }
          ],
          "scatterternary": [
           {
            "marker": {
             "colorbar": {
              "outlinewidth": 0,
              "ticks": ""
             }
            },
            "type": "scatterternary"
           }
          ],
          "surface": [
           {
            "colorbar": {
             "outlinewidth": 0,
             "ticks": ""
            },
            "colorscale": [
             [
              0,
              "#0d0887"
             ],
             [
              0.1111111111111111,
              "#46039f"
             ],
             [
              0.2222222222222222,
              "#7201a8"
             ],
             [
              0.3333333333333333,
              "#9c179e"
             ],
             [
              0.4444444444444444,
              "#bd3786"
             ],
             [
              0.5555555555555556,
              "#d8576b"
             ],
             [
              0.6666666666666666,
              "#ed7953"
             ],
             [
              0.7777777777777778,
              "#fb9f3a"
             ],
             [
              0.8888888888888888,
              "#fdca26"
             ],
             [
              1,
              "#f0f921"
             ]
            ],
            "type": "surface"
           }
          ],
          "table": [
           {
            "cells": {
             "fill": {
              "color": "#EBF0F8"
             },
             "line": {
              "color": "white"
             }
            },
            "header": {
             "fill": {
              "color": "#C8D4E3"
             },
             "line": {
              "color": "white"
             }
            },
            "type": "table"
           }
          ]
         },
         "layout": {
          "annotationdefaults": {
           "arrowcolor": "#2a3f5f",
           "arrowhead": 0,
           "arrowwidth": 1
          },
          "autotypenumbers": "strict",
          "coloraxis": {
           "colorbar": {
            "outlinewidth": 0,
            "ticks": ""
           }
          },
          "colorscale": {
           "diverging": [
            [
             0,
             "#8e0152"
            ],
            [
             0.1,
             "#c51b7d"
            ],
            [
             0.2,
             "#de77ae"
            ],
            [
             0.3,
             "#f1b6da"
            ],
            [
             0.4,
             "#fde0ef"
            ],
            [
             0.5,
             "#f7f7f7"
            ],
            [
             0.6,
             "#e6f5d0"
            ],
            [
             0.7,
             "#b8e186"
            ],
            [
             0.8,
             "#7fbc41"
            ],
            [
             0.9,
             "#4d9221"
            ],
            [
             1,
             "#276419"
            ]
           ],
           "sequential": [
            [
             0,
             "#0d0887"
            ],
            [
             0.1111111111111111,
             "#46039f"
            ],
            [
             0.2222222222222222,
             "#7201a8"
            ],
            [
             0.3333333333333333,
             "#9c179e"
            ],
            [
             0.4444444444444444,
             "#bd3786"
            ],
            [
             0.5555555555555556,
             "#d8576b"
            ],
            [
             0.6666666666666666,
             "#ed7953"
            ],
            [
             0.7777777777777778,
             "#fb9f3a"
            ],
            [
             0.8888888888888888,
             "#fdca26"
            ],
            [
             1,
             "#f0f921"
            ]
           ],
           "sequentialminus": [
            [
             0,
             "#0d0887"
            ],
            [
             0.1111111111111111,
             "#46039f"
            ],
            [
             0.2222222222222222,
             "#7201a8"
            ],
            [
             0.3333333333333333,
             "#9c179e"
            ],
            [
             0.4444444444444444,
             "#bd3786"
            ],
            [
             0.5555555555555556,
             "#d8576b"
            ],
            [
             0.6666666666666666,
             "#ed7953"
            ],
            [
             0.7777777777777778,
             "#fb9f3a"
            ],
            [
             0.8888888888888888,
             "#fdca26"
            ],
            [
             1,
             "#f0f921"
            ]
           ]
          },
          "colorway": [
           "#636efa",
           "#EF553B",
           "#00cc96",
           "#ab63fa",
           "#FFA15A",
           "#19d3f3",
           "#FF6692",
           "#B6E880",
           "#FF97FF",
           "#FECB52"
          ],
          "font": {
           "color": "#2a3f5f"
          },
          "geo": {
           "bgcolor": "white",
           "lakecolor": "white",
           "landcolor": "#E5ECF6",
           "showlakes": true,
           "showland": true,
           "subunitcolor": "white"
          },
          "hoverlabel": {
           "align": "left"
          },
          "hovermode": "closest",
          "mapbox": {
           "style": "light"
          },
          "paper_bgcolor": "white",
          "plot_bgcolor": "#E5ECF6",
          "polar": {
           "angularaxis": {
            "gridcolor": "white",
            "linecolor": "white",
            "ticks": ""
           },
           "bgcolor": "#E5ECF6",
           "radialaxis": {
            "gridcolor": "white",
            "linecolor": "white",
            "ticks": ""
           }
          },
          "scene": {
           "xaxis": {
            "backgroundcolor": "#E5ECF6",
            "gridcolor": "white",
            "gridwidth": 2,
            "linecolor": "white",
            "showbackground": true,
            "ticks": "",
            "zerolinecolor": "white"
           },
           "yaxis": {
            "backgroundcolor": "#E5ECF6",
            "gridcolor": "white",
            "gridwidth": 2,
            "linecolor": "white",
            "showbackground": true,
            "ticks": "",
            "zerolinecolor": "white"
           },
           "zaxis": {
            "backgroundcolor": "#E5ECF6",
            "gridcolor": "white",
            "gridwidth": 2,
            "linecolor": "white",
            "showbackground": true,
            "ticks": "",
            "zerolinecolor": "white"
           }
          },
          "shapedefaults": {
           "line": {
            "color": "#2a3f5f"
           }
          },
          "ternary": {
           "aaxis": {
            "gridcolor": "white",
            "linecolor": "white",
            "ticks": ""
           },
           "baxis": {
            "gridcolor": "white",
            "linecolor": "white",
            "ticks": ""
           },
           "bgcolor": "#E5ECF6",
           "caxis": {
            "gridcolor": "white",
            "linecolor": "white",
            "ticks": ""
           }
          },
          "title": {
           "x": 0.05
          },
          "xaxis": {
           "automargin": true,
           "gridcolor": "white",
           "linecolor": "white",
           "ticks": "",
           "title": {
            "standoff": 15
           },
           "zerolinecolor": "white",
           "zerolinewidth": 2
          },
          "yaxis": {
           "automargin": true,
           "gridcolor": "white",
           "linecolor": "white",
           "ticks": "",
           "title": {
            "standoff": 15
           },
           "zerolinecolor": "white",
           "zerolinewidth": 2
          }
         }
        },
        "xaxis": {
         "anchor": "y",
         "domain": [
          0,
          1
         ],
         "title": {
          "text": "Rent"
         }
        },
        "yaxis": {
         "anchor": "x",
         "domain": [
          0,
          1
         ],
         "title": {
          "text": "Population"
         }
        }
       }
      }
     },
     "metadata": {},
     "output_type": "display_data"
    }
   ],
   "source": []
  },
  {
   "cell_type": "code",
   "execution_count": null,
   "metadata": {},
   "outputs": [],
   "source": []
  }
 ],
 "metadata": {
  "kernelspec": {
   "display_name": ".venv",
   "language": "python",
   "name": "python3"
  },
  "language_info": {
   "codemirror_mode": {
    "name": "ipython",
    "version": 3
   },
   "file_extension": ".py",
   "mimetype": "text/x-python",
   "name": "python",
   "nbconvert_exporter": "python",
   "pygments_lexer": "ipython3",
   "version": "3.10.10"
  },
  "orig_nbformat": 4
 },
 "nbformat": 4,
 "nbformat_minor": 2
}
